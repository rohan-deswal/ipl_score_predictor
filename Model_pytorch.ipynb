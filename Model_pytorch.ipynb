{
 "cells": [
  {
   "cell_type": "code",
   "execution_count": 1,
   "metadata": {},
   "outputs": [],
   "source": [
    "import matplotlib.pyplot as plt\n",
    "import numpy as np\n",
    "import pandas as pd"
   ]
  },
  {
   "cell_type": "code",
   "execution_count": 2,
   "metadata": {},
   "outputs": [],
   "source": [
    "import torch\n",
    "import torch.nn as nn\n",
    "import torch.nn.functional as F\n",
    "from torch.autograd import Variable\n",
    "from sklearn.preprocessing import MinMaxScaler\n",
    "import time"
   ]
  },
  {
   "cell_type": "code",
   "execution_count": 3,
   "metadata": {},
   "outputs": [],
   "source": [
    "from tensorflow.keras.models import load_model"
   ]
  },
  {
   "cell_type": "code",
   "execution_count": 4,
   "metadata": {},
   "outputs": [],
   "source": [
    "def hidden_init(layer):\n",
    "    fan_in = layer.weight.data.size()[0]\n",
    "    lim = 1. / np.sqrt(fan_in)\n",
    "    return (-lim, lim)  \n",
    "\n",
    "class Actor(nn.Module):\n",
    "    \"\"\"Actor (Policy) Model.\"\"\"\n",
    "\n",
    "    def __init__(self, state_size, action_size, seed, h):\n",
    "        \"\"\"Initialize parameters and build model.\n",
    "        Params\n",
    "        ======\n",
    "            state_size (int): Dimension of each state\n",
    "            action_size (int): Dimension of each action\n",
    "            seed (int): Random seed\n",
    "            fc1_units (int): Number of nodes in first hidden layer\n",
    "            fc2_units (int): Number of nodes in second hidden layer\n",
    "        \"\"\"\n",
    "        super(Actor, self).__init__()\n",
    "        self.seed = torch.manual_seed(seed)\n",
    "        self.fc1 = nn.Linear(state_size, h)\n",
    "        self.fc2 = nn.Linear(h, h)\n",
    "        self.fc3 = nn.Linear(h, action_size)\n",
    "        self.reset_parameters()\n",
    "\n",
    "    def reset_parameters(self):\n",
    "        self.fc1.weight.data.uniform_(*hidden_init(self.fc1))\n",
    "        self.fc2.weight.data.uniform_(*hidden_init(self.fc2))\n",
    "        self.fc3.weight.data.uniform_(-3e-3, 3e-3)\n",
    "\n",
    "    def forward(self, state):\n",
    "        \"\"\"Build an actor (policy) network that maps states -> actions.\"\"\"\n",
    "        x = F.relu(self.fc1(state))\n",
    "        x = F.relu(self.fc2(x))\n",
    "\n",
    "        return self.fc3(x)\n",
    "\n",
    "net=Actor(6,1,time.time(),64)"
   ]
  },
  {
   "cell_type": "code",
   "execution_count": 5,
   "metadata": {},
   "outputs": [],
   "source": [
    "dnn_model = load_model('dnn_model')"
   ]
  },
  {
   "cell_type": "code",
   "execution_count": 6,
   "metadata": {},
   "outputs": [
    {
     "data": {
      "text/plain": [
       "[array([ 1.497406 , 45.812748 ,  3.3521402,  3.5544746,  1.0907632,\n",
       "         1.3004851], dtype=float32),\n",
       " array([0.24999326, 7.7099004 , 1.1658807 , 0.4999508 , 0.01260211,\n",
       "        0.01306069], dtype=float32),\n",
       " 1542,\n",
       " array([[ 0.51072556,  0.39708847,  0.01295706,  0.5045902 ,  0.3019366 ,\n",
       "         -0.553073  ,  0.46582022, -0.3365738 , -0.63896966,  0.6599925 ,\n",
       "         -0.1229222 ,  0.1414271 ,  0.44389135,  0.5862594 , -0.04315897,\n",
       "          0.19328333,  0.31973737,  0.23493186,  0.65993625,  0.05116456,\n",
       "         -0.6747456 ,  0.02133329,  0.64697737,  0.39415798,  0.3547089 ,\n",
       "          0.19676356,  0.58725876,  0.01692419,  0.20611513, -0.5889771 ,\n",
       "         -0.5443073 ,  0.02445396, -0.5114894 , -0.25917533,  0.421063  ,\n",
       "          0.5312307 , -0.19709964, -0.5296671 , -0.60294336, -0.5234036 ,\n",
       "         -0.5980461 , -0.33340436, -0.40595904, -0.59488153, -0.6444603 ,\n",
       "         -0.4929962 ,  0.519941  ,  0.44044906,  0.5484959 , -0.1198165 ,\n",
       "         -0.49018195,  0.11608386, -0.33764923, -0.6387259 , -0.28318658,\n",
       "          0.63643515,  0.5150756 , -0.11428505,  0.40133578,  0.5789977 ,\n",
       "         -0.61352414,  0.46324414, -0.5003976 , -0.5605973 ],\n",
       "        [ 0.20491248, -0.07605215,  0.03556022,  0.10776734, -0.01655776,\n",
       "         -0.07604457, -0.12710029,  0.17746826, -0.13520022,  0.07172089,\n",
       "          0.19380857,  0.12633815, -0.11562215,  0.05678531,  0.11786164,\n",
       "          0.14595447, -0.03639717,  0.16678031,  0.1319704 ,  0.03847539,\n",
       "          0.17616399, -0.01586345,  0.05330812,  0.03847506,  0.05975525,\n",
       "         -0.07881705,  0.04981771, -0.06212083, -0.01311779,  0.04250764,\n",
       "          0.12817965,  0.08048554, -0.15951806, -0.14013383,  0.02896222,\n",
       "          0.0290876 ,  0.1004236 , -0.01035731, -0.05067525,  0.25037745,\n",
       "         -0.00985938, -0.12950698, -0.08004988,  0.09086426, -0.02948569,\n",
       "          0.0569325 , -0.08002453,  0.09483503, -0.12133734,  0.2053926 ,\n",
       "          0.285124  , -0.10805587,  0.12392617,  0.07495476,  0.02640986,\n",
       "          0.00242696,  0.15658113, -0.20306538, -0.18941937,  0.2079813 ,\n",
       "         -0.0761163 , -0.02657149,  0.15021306, -0.11389284],\n",
       "        [ 0.1348865 , -0.24060512, -0.02299033, -0.24655338,  0.2155973 ,\n",
       "          0.01369291, -0.4362921 , -0.00085175,  0.02824115,  0.11499341,\n",
       "         -0.10761701, -0.38580114, -0.11017775,  0.15953435,  0.07737707,\n",
       "         -0.06526978,  0.02392857,  0.00660616,  0.02784483, -0.14337258,\n",
       "         -0.05016085, -0.15078363,  0.10578521,  0.17692116,  0.18630111,\n",
       "          0.23797654, -0.0631784 , -0.3272276 , -0.26631832, -0.22443964,\n",
       "         -0.24556847,  0.01353025,  0.13687824,  0.1917539 ,  0.11434686,\n",
       "         -0.23346783, -0.18840621,  0.11502526, -0.01837652, -0.1173678 ,\n",
       "         -0.08678731,  0.1025563 ,  0.04343034,  0.06242642, -0.2054805 ,\n",
       "         -0.01514068, -0.39720237,  0.264658  ,  0.06362659, -0.18390001,\n",
       "          0.00531664, -0.36834297, -0.19515143, -0.06165763,  0.03292551,\n",
       "          0.00907016,  0.1415164 , -0.10275777, -0.12002801,  0.00437248,\n",
       "         -0.1464628 , -0.38440558, -0.19601671,  0.10109922],\n",
       "        [ 0.06713289, -0.14105892, -0.2026029 ,  0.21147576,  0.06241276,\n",
       "          0.15120429, -0.21404682, -0.2096383 ,  0.10054117,  0.12400477,\n",
       "          0.10901424, -0.21963255,  0.28943694, -0.10715206, -0.37527305,\n",
       "          0.08260097,  0.24113774,  0.14852734, -0.16470015, -0.14302914,\n",
       "         -0.02021899,  0.04894914,  0.07326097,  0.14221339,  0.01262298,\n",
       "          0.17937307, -0.10508908, -0.25969657, -0.27954996,  0.00475171,\n",
       "          0.01328567, -0.0395113 ,  0.13863862,  0.24282755, -0.17512818,\n",
       "          0.06716991,  0.01496191,  0.1460616 ,  0.12598523, -0.2693797 ,\n",
       "          0.13635276,  0.35603535,  0.00960854,  0.11053077,  0.11308949,\n",
       "          0.02828161, -0.22296481, -0.06392102,  0.37497592, -0.19045304,\n",
       "         -0.20325838, -0.20294595, -0.22285376,  0.1386616 ,  0.06606068,\n",
       "         -0.1295979 ,  0.3502477 ,  0.38635764,  0.19883017,  0.04475848,\n",
       "          0.04595822, -0.13505933, -0.06822857, -0.04179326],\n",
       "        [ 0.04344781,  0.02431256,  0.03575442, -0.03481023,  0.12620503,\n",
       "          0.31297123,  0.02507778,  0.1352376 , -0.15636994,  0.02342252,\n",
       "          0.07103945, -0.03749246,  0.2217965 ,  0.1942551 , -0.30729228,\n",
       "          0.01979208,  0.05052592,  0.12780751,  0.03358643,  0.09487584,\n",
       "          0.15265147,  0.05554238, -0.10766073,  0.11760319,  0.17320296,\n",
       "          0.27733555,  0.06906642,  0.11993667,  0.05395056, -0.04105591,\n",
       "         -0.04984358, -0.03635043, -0.05498699, -0.30776072,  0.16857636,\n",
       "          0.08467568, -0.14355946, -0.15562364,  0.06927321, -0.1179419 ,\n",
       "         -0.07097521, -0.06961599, -0.16353612,  0.2245171 , -0.03893186,\n",
       "         -0.08832178,  0.01129116,  0.18021506, -0.00662952, -0.30315492,\n",
       "         -0.08723199,  0.25393644,  0.02945125, -0.06796914,  0.369654  ,\n",
       "          0.09131469,  0.20293659, -0.32891545, -0.01752568, -0.10426766,\n",
       "          0.24096444, -0.1251469 , -0.05831584, -0.06984374],\n",
       "        [-0.01797587,  0.02478737,  0.1826348 , -0.05536905,  0.10964847,\n",
       "         -0.03289401, -0.0599654 ,  0.14059354,  0.24981649, -0.05458354,\n",
       "          0.18690182, -0.21511099, -0.17965508,  0.20949781, -0.41666985,\n",
       "          0.2965966 , -0.01252219, -0.08618009,  0.147258  , -0.07123478,\n",
       "         -0.17075655,  0.13663104,  0.23010053,  0.0672437 ,  0.13192576,\n",
       "         -0.12549719, -0.08373788, -0.22970419,  0.20228042,  0.26374274,\n",
       "         -0.05344645,  0.2180142 ,  0.15369946, -0.04967898,  0.16027686,\n",
       "         -0.00971508,  0.20806268,  0.15667294, -0.14952049,  0.04991872,\n",
       "         -0.10024942,  0.07200369,  0.34590024, -0.17972286, -0.08867808,\n",
       "         -0.00426148,  0.02992932, -0.01597764,  0.25760883,  0.03736877,\n",
       "         -0.09906711, -0.22424513, -0.00747216, -0.13699207, -0.1206058 ,\n",
       "         -0.0764778 , -0.18253426, -0.08611288,  0.15082978,  0.13378021,\n",
       "          0.09705404, -0.10156514,  0.11372066,  0.15534782]],\n",
       "       dtype=float32),\n",
       " array([0.13415611, 0.32112032, 0.40602195, 0.37814596, 0.3361507 ,\n",
       "        0.2706288 , 0.28793618, 0.39730683, 0.24386513, 0.18678637,\n",
       "        0.4168203 , 0.4580643 , 0.36236215, 0.31908697, 0.26482782,\n",
       "        0.489907  , 0.2565974 , 0.3199242 , 0.22661836, 0.41634783,\n",
       "        0.20638488, 0.4063382 , 0.2461778 , 0.18398155, 0.35439092,\n",
       "        0.40199688, 0.17905073, 0.36151275, 0.43327358, 0.2845608 ,\n",
       "        0.23677924, 0.42180672, 0.18694773, 0.344524  , 0.351077  ,\n",
       "        0.23809299, 0.36388648, 0.22353478, 0.20672922, 0.32993942,\n",
       "        0.18531354, 0.3380595 , 0.29547152, 0.27272522, 0.19597712,\n",
       "        0.21309432, 0.3377592 , 0.39441097, 0.42816395, 0.42282447,\n",
       "        0.27390182, 0.3541706 , 0.30315688, 0.22538105, 0.26775727,\n",
       "        0.17753077, 0.32005855, 0.34808016, 0.37017617, 0.211105  ,\n",
       "        0.28118798, 0.36183247, 0.21672034, 0.17312065], dtype=float32),\n",
       " array([[-0.02979061, -0.14867783, -0.10835188, ..., -0.01703336,\n",
       "          0.0162692 ,  0.18882154],\n",
       "        [-0.0207993 , -0.20169085, -0.15801892, ...,  0.32381016,\n",
       "          0.3220373 , -0.09300709],\n",
       "        [ 0.10913899, -0.18039119,  0.14890234, ...,  0.09346523,\n",
       "          0.2555587 , -0.14499445],\n",
       "        ...,\n",
       "        [ 0.11360396, -0.2145567 , -0.22519149, ...,  0.37331238,\n",
       "          0.45775774, -0.04767823],\n",
       "        [ 0.02160474, -0.11150493,  0.13838442, ...,  0.11909361,\n",
       "          0.03801303, -0.13351274],\n",
       "        [-0.04445675, -0.1425141 ,  0.03571357, ...,  0.17675772,\n",
       "          0.04188277, -0.06050805]], dtype=float32),\n",
       " array([-0.052033  , -0.02598186, -0.04420754, -0.08023868,  0.29778624,\n",
       "         0.23360057, -0.0486111 , -0.04006933,  0.28048635,  0.29183525,\n",
       "         0.27802935,  0.29814556,  0.28898227, -0.03881003,  0.3092187 ,\n",
       "         0.2798631 , -0.04269964,  0.01845256,  0.27330098,  0.27985784,\n",
       "         0.27941164, -0.03459096,  0.30219978, -0.04800612,  0.29177347,\n",
       "         0.26938906, -0.03725783,  0.26886612,  0.03195469,  0.2998615 ,\n",
       "         0.27956432,  0.27358195, -0.0343988 ,  0.28302553, -0.04173056,\n",
       "        -0.04839715, -0.03810537, -0.04353331, -0.04277227,  0.28775406,\n",
       "         0.28692225, -0.04427149, -0.02864455,  0.26566955, -0.05498393,\n",
       "         0.26694182, -0.04461868,  0.26515204,  0.26810464, -0.02722498,\n",
       "         0.27106798,  0.28251672, -0.02322148, -0.03873023,  0.26849747,\n",
       "         0.27182788,  0.30021784,  0.29583952,  0.2969624 ,  0.27420917,\n",
       "        -0.03679541,  0.2794648 ,  0.2892995 , -0.03693284], dtype=float32),\n",
       " array([[-0.00855408],\n",
       "        [-0.07822252],\n",
       "        [-0.2412863 ],\n",
       "        [-0.87074786],\n",
       "        [ 0.19185898],\n",
       "        [ 0.06061283],\n",
       "        [-0.08255436],\n",
       "        [-0.08820519],\n",
       "        [ 0.39690816],\n",
       "        [ 0.28011927],\n",
       "        [ 0.39779937],\n",
       "        [ 0.20351322],\n",
       "        [ 0.37364903],\n",
       "        [-0.17396629],\n",
       "        [ 0.16271241],\n",
       "        [ 0.3376727 ],\n",
       "        [-0.19128793],\n",
       "        [-0.3732947 ],\n",
       "        [ 0.31015378],\n",
       "        [ 0.309576  ],\n",
       "        [ 0.40160614],\n",
       "        [ 0.00329799],\n",
       "        [ 0.16044864],\n",
       "        [-0.12478115],\n",
       "        [ 0.22717322],\n",
       "        [ 0.40725294],\n",
       "        [-0.2465017 ],\n",
       "        [ 0.41006038],\n",
       "        [-1.1210755 ],\n",
       "        [ 0.18886304],\n",
       "        [ 0.3337231 ],\n",
       "        [ 0.31943867],\n",
       "        [-0.05362622],\n",
       "        [ 0.26832587],\n",
       "        [-0.1448247 ],\n",
       "        [-0.21627285],\n",
       "        [-0.0427174 ],\n",
       "        [-0.24009265],\n",
       "        [-0.17609584],\n",
       "        [ 0.14382191],\n",
       "        [ 0.22136018],\n",
       "        [-0.13449183],\n",
       "        [-0.22424085],\n",
       "        [ 0.44176996],\n",
       "        [-0.1516166 ],\n",
       "        [ 0.41683185],\n",
       "        [-0.1407228 ],\n",
       "        [ 0.4160985 ],\n",
       "        [ 0.3634046 ],\n",
       "        [-0.24156658],\n",
       "        [ 0.35045046],\n",
       "        [ 0.36125728],\n",
       "        [-0.02471364],\n",
       "        [-0.18983614],\n",
       "        [ 0.4154161 ],\n",
       "        [ 0.3148376 ],\n",
       "        [ 0.18997851],\n",
       "        [ 0.16752155],\n",
       "        [ 0.25043264],\n",
       "        [ 0.2690604 ],\n",
       "        [-0.03990099],\n",
       "        [ 0.3214249 ],\n",
       "        [ 0.2573986 ],\n",
       "        [-0.08249933]], dtype=float32),\n",
       " array([0.23809917], dtype=float32)]"
      ]
     },
     "execution_count": 6,
     "metadata": {},
     "output_type": "execute_result"
    }
   ],
   "source": [
    "weights = dnn_model.get_weights()\n",
    "weights"
   ]
  },
  {
   "cell_type": "code",
   "execution_count": 7,
   "metadata": {},
   "outputs": [],
   "source": [
    "net.fc1.weight.data=torch.from_numpy(np.transpose(weights[3]))\n",
    "net.fc1.bias.data=torch.from_numpy(weights[4])\n",
    "net.fc2.weight.data=torch.from_numpy(np.transpose(np.array(weights[5])))\n",
    "net.fc2.bias.data=torch.from_numpy(weights[6])\n",
    "net.fc3.weight.data=torch.from_numpy(np.transpose(weights[7]))\n",
    "net.fc3.bias.data=torch.from_numpy(weights[8])"
   ]
  },
  {
   "cell_type": "code",
   "execution_count": 8,
   "metadata": {},
   "outputs": [],
   "source": [
    "venue_lookup = pd.read_csv(\"venue.csv\")\n",
    "batsmen_lookup = pd.read_csv(\"batsmen.csv\")\n",
    "bowlers_lookup = pd.read_csv(\"bowlers.csv\")\n",
    "\n",
    "venue_lookup = venue_lookup.set_index(\"venue\")[\"venue_mean_runs\"].to_dict()\n",
    "batsmen_lookup = batsmen_lookup.set_index(\"batsmen\")[\"batsmen_mean_runs\"].to_dict()\n",
    "bowlers_lookup = bowlers_lookup.set_index(\"bowlers\")[\"bowlers_mean_runs\"].to_dict()"
   ]
  },
  {
   "cell_type": "code",
   "execution_count": 9,
   "metadata": {},
   "outputs": [],
   "source": [
    "def predictor(testInput):\n",
    "    prediction = 46.5\n",
    "    \n",
    "    batsman_mean = sum(batsmen_lookup.values())/len(batsmen_lookup)\n",
    "    bowler_mean = sum(bowlers_lookup.values())/len(bowlers_lookup)\n",
    "    \n",
    "    df = pd.read_csv(testInput)\n",
    "    \n",
    "    df[\"venue_mean\"] = 0\n",
    "    df[\"count_batsmen\"] = 0\n",
    "    df[\"count_bowlers\"] = 0\n",
    "    df[\"batsmen_mean\"] = 0\n",
    "    df[\"bowlers_mean\"] = 0\n",
    "    \n",
    "    batsmen = df[\"batsmen\"][0].strip().split(',')\n",
    "    bowlers = df[\"bowlers\"][0].strip().split(',')\n",
    "    venue = df[\"venue\"][0]\n",
    "    \n",
    "    df[\"venue_mean\"] = venue_lookup[venue]\n",
    "    df[\"count_batsmen\"] = len(batsmen)\n",
    "    df[\"count_bowlers\"] = len(bowlers)\n",
    "    df[\"batsmen_mean\"] = sum([batsmen_lookup.get(name, batsman_mean) for name in batsmen])/len(batsmen)\n",
    "    df[\"bowlers_mean\"] = sum([bowlers_lookup.get(name, bowler_mean) for name in bowlers])/len(bowlers)\n",
    "    \n",
    "    df = df.drop(columns = [\"venue\", \"batsmen\", \"bowlers\", \"batting_team\", \"bowling_team\"])\n",
    "    \n",
    "    df = df.to_numpy()\n",
    "    \n",
    "    df = np.clip((df - weights[0])/(np.sqrt(weights[1]) + 0.001), -1, 1)\n",
    "    \n",
    "    df = torch.from_numpy(df.astype(np.float32))\n",
    "    \n",
    "    prediction = net(df)\n",
    "    \n",
    "    return prediction[0, 0]"
   ]
  },
  {
   "cell_type": "code",
   "execution_count": 10,
   "metadata": {},
   "outputs": [
    {
     "data": {
      "text/plain": [
       "tensor(39.1334, grad_fn=<SelectBackward>)"
      ]
     },
     "execution_count": 10,
     "metadata": {},
     "output_type": "execute_result"
    }
   ],
   "source": [
    "predictor(\"trial/18_inn2.csv\")"
   ]
  },
  {
   "cell_type": "code",
   "execution_count": 11,
   "metadata": {},
   "outputs": [],
   "source": [
    "torch.save(net.state_dict(), \"pytorch_model.pt\")"
   ]
  },
  {
   "cell_type": "code",
   "execution_count": 12,
   "metadata": {},
   "outputs": [
    {
     "data": {
      "text/plain": [
       "<All keys matched successfully>"
      ]
     },
     "execution_count": 12,
     "metadata": {},
     "output_type": "execute_result"
    }
   ],
   "source": [
    "dnn_model = Actor(6,1,time.time(),64)\n",
    "dnn_model.load_state_dict(torch.load(\"pytorch_model.pt\"))"
   ]
  },
  {
   "cell_type": "code",
   "execution_count": 13,
   "metadata": {},
   "outputs": [],
   "source": [
    "def predictor2(testInput):\n",
    "    prediction = 46.5\n",
    "    \n",
    "    batsman_mean = sum(batsmen_lookup.values())/len(batsmen_lookup)\n",
    "    bowler_mean = sum(bowlers_lookup.values())/len(bowlers_lookup)\n",
    "    \n",
    "    df = pd.read_csv(testInput)\n",
    "    \n",
    "    df[\"venue_mean\"] = 0\n",
    "    df[\"count_batsmen\"] = 0\n",
    "    df[\"count_bowlers\"] = 0\n",
    "    df[\"batsmen_mean\"] = 0\n",
    "    df[\"bowlers_mean\"] = 0\n",
    "    \n",
    "    batsmen = df[\"batsmen\"][0].strip().split(',')\n",
    "    bowlers = df[\"bowlers\"][0].strip().split(',')\n",
    "    venue = df[\"venue\"][0]\n",
    "    \n",
    "    df[\"venue_mean\"] = venue_lookup[venue]\n",
    "    df[\"count_batsmen\"] = len(batsmen)\n",
    "    df[\"count_bowlers\"] = len(bowlers)\n",
    "    df[\"batsmen_mean\"] = sum([batsmen_lookup.get(name, batsman_mean) for name in batsmen])/len(batsmen)\n",
    "    df[\"bowlers_mean\"] = sum([bowlers_lookup.get(name, bowler_mean) for name in bowlers])/len(bowlers)\n",
    "    \n",
    "    df = df.drop(columns = [\"venue\", \"batsmen\", \"bowlers\", \"batting_team\", \"bowling_team\"])\n",
    "    \n",
    "    df = df.to_numpy()\n",
    "    \n",
    "    df = (df - weights[0])/(np.sqrt(weights[1]) + 0.001)\n",
    "    \n",
    "    df = torch.from_numpy(df.astype(np.float32))\n",
    "    \n",
    "    prediction = dnn_model(df)\n",
    "    \n",
    "    return prediction[0, 0]"
   ]
  },
  {
   "cell_type": "code",
   "execution_count": 14,
   "metadata": {},
   "outputs": [
    {
     "data": {
      "text/plain": [
       "43"
      ]
     },
     "execution_count": 14,
     "metadata": {},
     "output_type": "execute_result"
    }
   ],
   "source": [
    "int(predictor2(\"trial/18_inn1.csv\"))"
   ]
  },
  {
   "cell_type": "code",
   "execution_count": null,
   "metadata": {},
   "outputs": [],
   "source": []
  }
 ],
 "metadata": {
  "kernelspec": {
   "display_name": "Python 3 (ipykernel)",
   "language": "python",
   "name": "python3"
  },
  "language_info": {
   "codemirror_mode": {
    "name": "ipython",
    "version": 3
   },
   "file_extension": ".py",
   "mimetype": "text/x-python",
   "name": "python",
   "nbconvert_exporter": "python",
   "pygments_lexer": "ipython3",
   "version": "3.11.4"
  }
 },
 "nbformat": 4,
 "nbformat_minor": 4
}
