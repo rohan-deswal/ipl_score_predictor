{
 "cells": [
  {
   "cell_type": "code",
   "execution_count": 1,
   "metadata": {},
   "outputs": [],
   "source": [
    "import matplotlib.pyplot as plt\n",
    "import numpy as np\n",
    "import pandas as pd"
   ]
  },
  {
   "cell_type": "code",
   "execution_count": 2,
   "metadata": {},
   "outputs": [
    {
     "name": "stdout",
     "output_type": "stream",
     "text": [
      "2.4.1\n"
     ]
    }
   ],
   "source": [
    "import tensorflow as tf\n",
    "\n",
    "from tensorflow import keras\n",
    "from tensorflow.keras import layers\n",
    "from tensorflow.keras.layers.experimental import preprocessing\n",
    "\n",
    "print(tf.__version__)"
   ]
  },
  {
   "cell_type": "code",
   "execution_count": 3,
   "metadata": {},
   "outputs": [],
   "source": [
    "def plot_loss(history):\n",
    "  plt.plot(history.history['loss'], label='loss')\n",
    "  plt.ylim([0, 10])\n",
    "  plt.xlabel('Epoch')\n",
    "  plt.ylabel('Error [MPG]')\n",
    "  plt.legend()\n",
    "  plt.grid(True)"
   ]
  },
  {
   "cell_type": "code",
   "execution_count": 4,
   "metadata": {},
   "outputs": [
    {
     "data": {
      "text/html": [
       "<div>\n",
       "<style scoped>\n",
       "    .dataframe tbody tr th:only-of-type {\n",
       "        vertical-align: middle;\n",
       "    }\n",
       "\n",
       "    .dataframe tbody tr th {\n",
       "        vertical-align: top;\n",
       "    }\n",
       "\n",
       "    .dataframe thead th {\n",
       "        text-align: right;\n",
       "    }\n",
       "</style>\n",
       "<table border=\"1\" class=\"dataframe\">\n",
       "  <thead>\n",
       "    <tr style=\"text-align: right;\">\n",
       "      <th></th>\n",
       "      <th>innings</th>\n",
       "      <th>runs</th>\n",
       "      <th>venue_mean</th>\n",
       "      <th>count_batsmen</th>\n",
       "      <th>count_bowlers</th>\n",
       "      <th>batsmen_mean</th>\n",
       "      <th>bowlers_mean</th>\n",
       "    </tr>\n",
       "  </thead>\n",
       "  <tbody>\n",
       "    <tr>\n",
       "      <th>0</th>\n",
       "      <td>1</td>\n",
       "      <td>61</td>\n",
       "      <td>46.294118</td>\n",
       "      <td>3</td>\n",
       "      <td>3</td>\n",
       "      <td>0.840709</td>\n",
       "      <td>1.868174</td>\n",
       "    </tr>\n",
       "    <tr>\n",
       "      <th>1</th>\n",
       "      <td>2</td>\n",
       "      <td>26</td>\n",
       "      <td>46.294118</td>\n",
       "      <td>6</td>\n",
       "      <td>3</td>\n",
       "      <td>0.853118</td>\n",
       "      <td>1.354783</td>\n",
       "    </tr>\n",
       "    <tr>\n",
       "      <th>2</th>\n",
       "      <td>1</td>\n",
       "      <td>54</td>\n",
       "      <td>45.042553</td>\n",
       "      <td>3</td>\n",
       "      <td>3</td>\n",
       "      <td>0.968361</td>\n",
       "      <td>1.294353</td>\n",
       "    </tr>\n",
       "    <tr>\n",
       "      <th>3</th>\n",
       "      <td>2</td>\n",
       "      <td>51</td>\n",
       "      <td>46.137255</td>\n",
       "      <td>4</td>\n",
       "      <td>3</td>\n",
       "      <td>0.975176</td>\n",
       "      <td>1.293781</td>\n",
       "    </tr>\n",
       "    <tr>\n",
       "      <th>4</th>\n",
       "      <td>1</td>\n",
       "      <td>56</td>\n",
       "      <td>45.291339</td>\n",
       "      <td>2</td>\n",
       "      <td>4</td>\n",
       "      <td>1.206049</td>\n",
       "      <td>1.463811</td>\n",
       "    </tr>\n",
       "    <tr>\n",
       "      <th>5</th>\n",
       "      <td>2</td>\n",
       "      <td>47</td>\n",
       "      <td>45.291339</td>\n",
       "      <td>3</td>\n",
       "      <td>4</td>\n",
       "      <td>1.161574</td>\n",
       "      <td>1.151067</td>\n",
       "    </tr>\n",
       "    <tr>\n",
       "      <th>6</th>\n",
       "      <td>1</td>\n",
       "      <td>16</td>\n",
       "      <td>38.333333</td>\n",
       "      <td>2</td>\n",
       "      <td>2</td>\n",
       "      <td>1.223773</td>\n",
       "      <td>1.263138</td>\n",
       "    </tr>\n",
       "    <tr>\n",
       "      <th>7</th>\n",
       "      <td>2</td>\n",
       "      <td>28</td>\n",
       "      <td>38.333333</td>\n",
       "      <td>4</td>\n",
       "      <td>3</td>\n",
       "      <td>1.029660</td>\n",
       "      <td>1.261221</td>\n",
       "    </tr>\n",
       "    <tr>\n",
       "      <th>8</th>\n",
       "      <td>1</td>\n",
       "      <td>72</td>\n",
       "      <td>48.428571</td>\n",
       "      <td>6</td>\n",
       "      <td>5</td>\n",
       "      <td>1.117560</td>\n",
       "      <td>1.266299</td>\n",
       "    </tr>\n",
       "    <tr>\n",
       "      <th>9</th>\n",
       "      <td>2</td>\n",
       "      <td>61</td>\n",
       "      <td>48.428571</td>\n",
       "      <td>4</td>\n",
       "      <td>4</td>\n",
       "      <td>1.103104</td>\n",
       "      <td>1.400510</td>\n",
       "    </tr>\n",
       "  </tbody>\n",
       "</table>\n",
       "</div>"
      ],
      "text/plain": [
       "   innings  runs  venue_mean  count_batsmen  count_bowlers  batsmen_mean  \\\n",
       "0        1    61   46.294118              3              3      0.840709   \n",
       "1        2    26   46.294118              6              3      0.853118   \n",
       "2        1    54   45.042553              3              3      0.968361   \n",
       "3        2    51   46.137255              4              3      0.975176   \n",
       "4        1    56   45.291339              2              4      1.206049   \n",
       "5        2    47   45.291339              3              4      1.161574   \n",
       "6        1    16   38.333333              2              2      1.223773   \n",
       "7        2    28   38.333333              4              3      1.029660   \n",
       "8        1    72   48.428571              6              5      1.117560   \n",
       "9        2    61   48.428571              4              4      1.103104   \n",
       "\n",
       "   bowlers_mean  \n",
       "0      1.868174  \n",
       "1      1.354783  \n",
       "2      1.294353  \n",
       "3      1.293781  \n",
       "4      1.463811  \n",
       "5      1.151067  \n",
       "6      1.263138  \n",
       "7      1.261221  \n",
       "8      1.266299  \n",
       "9      1.400510  "
      ]
     },
     "execution_count": 4,
     "metadata": {},
     "output_type": "execute_result"
    }
   ],
   "source": [
    "raw_dataset = pd.read_csv(\"all_matches_numeric.csv\")\n",
    "\n",
    "dataset = raw_dataset.copy()\n",
    "dataset.head(10)\n",
    "\n"
   ]
  },
  {
   "cell_type": "code",
   "execution_count": 5,
   "metadata": {},
   "outputs": [],
   "source": [
    "number_sample = len(dataset)\n",
    "train_dataset = dataset[:int(0.95*number_sample)]\n",
    "test_dataset = dataset[int(0.95*number_sample):]"
   ]
  },
  {
   "cell_type": "code",
   "execution_count": 6,
   "metadata": {},
   "outputs": [],
   "source": [
    "train_features = train_dataset.copy()\n",
    "test_features = test_dataset.copy()\n",
    "\n",
    "train_labels = train_features.pop('runs')\n",
    "test_labels = test_features.pop('runs')"
   ]
  },
  {
   "cell_type": "code",
   "execution_count": 7,
   "metadata": {},
   "outputs": [],
   "source": [
    "normalizer = preprocessing.Normalization()\n",
    "normalizer.adapt(np.array(train_features))"
   ]
  },
  {
   "cell_type": "code",
   "execution_count": 8,
   "metadata": {},
   "outputs": [],
   "source": [
    "def build_and_compile_model(norm):\n",
    "  model = keras.Sequential([\n",
    "      norm,\n",
    "      layers.Dense(64, activation='relu'),\n",
    "      layers.Dense(64, activation='relu'),\n",
    "      layers.Dense(1)\n",
    "  ])\n",
    "\n",
    "  model.compile(loss='mean_absolute_error',\n",
    "                optimizer=tf.keras.optimizers.Adam(0.002))\n",
    "  return model"
   ]
  },
  {
   "cell_type": "code",
   "execution_count": 9,
   "metadata": {},
   "outputs": [],
   "source": [
    "dnn_model = build_and_compile_model(normalizer)"
   ]
  },
  {
   "cell_type": "code",
   "execution_count": 10,
   "metadata": {},
   "outputs": [
    {
     "name": "stdout",
     "output_type": "stream",
     "text": [
      "Epoch 1/40\n",
      "49/49 - 0s - loss: 41.2402\n",
      "Epoch 2/40\n",
      "49/49 - 0s - loss: 17.7547\n",
      "Epoch 3/40\n",
      "49/49 - 0s - loss: 9.8730\n",
      "Epoch 4/40\n",
      "49/49 - 0s - loss: 8.9194\n",
      "Epoch 5/40\n",
      "49/49 - 0s - loss: 8.4924\n",
      "Epoch 6/40\n",
      "49/49 - 0s - loss: 8.1112\n",
      "Epoch 7/40\n",
      "49/49 - 0s - loss: 7.9331\n",
      "Epoch 8/40\n",
      "49/49 - 0s - loss: 7.7747\n",
      "Epoch 9/40\n",
      "49/49 - 0s - loss: 7.8117\n",
      "Epoch 10/40\n",
      "49/49 - 0s - loss: 7.6579\n",
      "Epoch 11/40\n",
      "49/49 - 0s - loss: 7.6081\n",
      "Epoch 12/40\n",
      "49/49 - 0s - loss: 7.5473\n",
      "Epoch 13/40\n",
      "49/49 - 0s - loss: 7.5189\n",
      "Epoch 14/40\n",
      "49/49 - 0s - loss: 7.5327\n",
      "Epoch 15/40\n",
      "49/49 - 0s - loss: 7.4527\n",
      "Epoch 16/40\n",
      "49/49 - 0s - loss: 7.4387\n",
      "Epoch 17/40\n",
      "49/49 - 0s - loss: 7.4319\n",
      "Epoch 18/40\n",
      "49/49 - 0s - loss: 7.4065\n",
      "Epoch 19/40\n",
      "49/49 - 0s - loss: 7.3870\n",
      "Epoch 20/40\n",
      "49/49 - 0s - loss: 7.4056\n",
      "Epoch 21/40\n",
      "49/49 - 0s - loss: 7.3423\n",
      "Epoch 22/40\n",
      "49/49 - 0s - loss: 7.3257\n",
      "Epoch 23/40\n",
      "49/49 - 0s - loss: 7.2630\n",
      "Epoch 24/40\n",
      "49/49 - 0s - loss: 7.3601\n",
      "Epoch 25/40\n",
      "49/49 - 0s - loss: 7.3366\n",
      "Epoch 26/40\n",
      "49/49 - 0s - loss: 7.3287\n",
      "Epoch 27/40\n",
      "49/49 - 0s - loss: 7.2851\n",
      "Epoch 28/40\n",
      "49/49 - 0s - loss: 7.2942\n",
      "Epoch 29/40\n",
      "49/49 - 0s - loss: 7.2744\n",
      "Epoch 30/40\n",
      "49/49 - 0s - loss: 7.2521\n",
      "Epoch 31/40\n",
      "49/49 - 0s - loss: 7.2668\n",
      "Epoch 32/40\n",
      "49/49 - 0s - loss: 7.2432\n",
      "Epoch 33/40\n",
      "49/49 - 0s - loss: 7.2667\n",
      "Epoch 34/40\n",
      "49/49 - 0s - loss: 7.2398\n",
      "Epoch 35/40\n",
      "49/49 - 0s - loss: 7.2211\n",
      "Epoch 36/40\n",
      "49/49 - 0s - loss: 7.2292\n",
      "Epoch 37/40\n",
      "49/49 - 0s - loss: 7.2416\n",
      "Epoch 38/40\n",
      "49/49 - 0s - loss: 7.2294\n",
      "Epoch 39/40\n",
      "49/49 - 0s - loss: 7.1967\n",
      "Epoch 40/40\n",
      "49/49 - 0s - loss: 7.1773\n",
      "Wall time: 1.86 s\n"
     ]
    }
   ],
   "source": [
    "%%time\n",
    "history = dnn_model.fit(\n",
    "    train_features, train_labels,\n",
    "    verbose=2, epochs=40)"
   ]
  },
  {
   "cell_type": "code",
   "execution_count": 11,
   "metadata": {},
   "outputs": [
    {
     "data": {
      "image/png": "[encoded data removed]",
      "text/plain": [
       "<Figure size 432x288 with 1 Axes>"
      ]
     },
     "metadata": {
      "needs_background": "light"
     },
     "output_type": "display_data"
    }
   ],
   "source": [
    "plot_loss(history)"
   ]
  },
  {
   "cell_type": "code",
   "execution_count": 12,
   "metadata": {},
   "outputs": [
    {
     "name": "stdout",
     "output_type": "stream",
     "text": [
      "3/3 - 0s - loss: 7.4818\n"
     ]
    }
   ],
   "source": [
    "test_results = {}\n",
    "\n",
    "test_results['dnn_model'] = dnn_model.evaluate(\n",
    "    test_features,\n",
    "    test_labels, verbose=2)"
   ]
  },
  {
   "cell_type": "code",
   "execution_count": 13,
   "metadata": {},
   "outputs": [
    {
     "name": "stdout",
     "output_type": "stream",
     "text": [
      "3/3 - 0s - loss: 7.4818\n"
     ]
    }
   ],
   "source": [
    "test_results['dnn_model'] = dnn_model.evaluate(test_features, test_labels, verbose=2)"
   ]
  },
  {
   "cell_type": "code",
   "execution_count": 14,
   "metadata": {},
   "outputs": [
    {
     "name": "stdout",
     "output_type": "stream",
     "text": [
      "INFO:tensorflow:Assets written to: dnn_model\\assets\n"
     ]
    }
   ],
   "source": [
    "dnn_model.save('dnn_model')"
   ]
  },
  {
   "cell_type": "code",
   "execution_count": 15,
   "metadata": {},
   "outputs": [],
   "source": [
    "venue_lookup = pd.read_csv(\"venue.csv\")\n",
    "batsmen_lookup = pd.read_csv(\"batsmen.csv\")\n",
    "bowlers_lookup = pd.read_csv(\"bowlers.csv\")\n",
    "\n",
    "venue_lookup = venue_lookup.set_index(\"venue\")[\"venue_mean_runs\"].to_dict()\n",
    "batsmen_lookup = batsmen_lookup.set_index(\"batsmen\")[\"batsmen_mean_runs\"].to_dict()\n",
    "bowlers_lookup = bowlers_lookup.set_index(\"bowlers\")[\"bowlers_mean_runs\"].to_dict()"
   ]
  },
  {
   "cell_type": "code",
   "execution_count": 16,
   "metadata": {},
   "outputs": [],
   "source": [
    "def predictor(testInput):\n",
    "    prediction = 46.5\n",
    "    \n",
    "    batsman_mean = sum(batsmen_lookup.values())/len(batsmen_lookup)\n",
    "    bowler_mean = sum(bowlers_lookup.values())/len(bowlers_lookup)\n",
    "    \n",
    "    df = pd.read_csv(testInput)\n",
    "    \n",
    "    df[\"venue_mean\"] = 0\n",
    "    df[\"count_batsmen\"] = 0\n",
    "    df[\"count_bowlers\"] = 0\n",
    "    df[\"batsmen_mean\"] = 0\n",
    "    df[\"bowlers_mean\"] = 0\n",
    "    \n",
    "    batsmen = df[\"batsmen\"][0].strip().split(',')\n",
    "    bowlers = df[\"bowlers\"][0].strip().split(',')\n",
    "    venue = df[\"venue\"][0]\n",
    "    \n",
    "    df[\"venue_mean\"] = venue_lookup[venue]\n",
    "    df[\"count_batsmen\"] = len(batsmen)\n",
    "    df[\"count_bowlers\"] = len(bowlers)\n",
    "    df[\"batsmen_mean\"] = sum([batsmen_lookup.get(name, batsman_mean) for name in batsmen])/len(batsmen)\n",
    "    df[\"bowlers_mean\"] = sum([bowlers_lookup.get(name, bowler_mean) for name in bowlers])/len(bowlers)\n",
    "    \n",
    "    df = df.drop(columns = [\"venue\", \"batsmen\", \"bowlers\", \"batting_team\", \"bowling_team\"])\n",
    "    \n",
    "    prediction = dnn_model.predict(df)\n",
    "    \n",
    "    return prediction[0, 0]"
   ]
  },
  {
   "cell_type": "code",
   "execution_count": 18,
   "metadata": {},
   "outputs": [
    {
     "data": {
      "text/plain": [
       "46.05893"
      ]
     },
     "execution_count": 18,
     "metadata": {},
     "output_type": "execute_result"
    }
   ],
   "source": [
    "predictor(\"submissionFormat/inputFile.csv\")"
   ]
  },
  {
   "cell_type": "code",
   "execution_count": 19,
   "metadata": {},
   "outputs": [
    {
     "name": "stdout",
     "output_type": "stream",
     "text": [
      "<tensorflow.python.keras.engine.sequential.Sequential object at 0x000002D4373BAE80>\n"
     ]
    }
   ],
   "source": [
    "dnn_model.save_weig"
   ]
  }
 ],
 "metadata": {
  "kernelspec": {
   "display_name": "Python 3",
   "language": "python",
   "name": "python3"
  },
  "language_info": {
   "codemirror_mode": {
    "name": "ipython",
    "version": 3
   },
   "file_extension": ".py",
   "mimetype": "text/x-python",
   "name": "python",
   "nbconvert_exporter": "python",
   "pygments_lexer": "ipython3",
   "version": "3.8.7"
  }
 },
 "nbformat": 4,
 "nbformat_minor": 4
}
